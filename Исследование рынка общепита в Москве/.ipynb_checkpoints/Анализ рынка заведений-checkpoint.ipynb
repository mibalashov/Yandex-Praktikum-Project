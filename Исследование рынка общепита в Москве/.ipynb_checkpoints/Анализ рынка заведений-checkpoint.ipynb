{
 "cells": [
  {
   "cell_type": "markdown",
   "metadata": {},
   "source": [
    "# Анализ рынка заведений общественного питания Москвы\n",
    "\n",
    "\n",
    "**Центральная задача** - анализ основных характеристик рынка общественного питания Москвы"
   ]
  },
  {
   "cell_type": "markdown",
   "metadata": {},
   "source": [
    "<h3>Описание данных</h3>\n",
    "\n",
    "\n",
    "***В распоряжении два датасета:***\n",
    "\n",
    "1. **Таблица df (данные о заведениях общественного питания Москвы):**\n",
    "    - object_name — название объекта общественного питания;\n",
    "    - chain — сетевой ресторан;\n",
    "    - object_type — тип объекта общественного питания;\n",
    "    - address — адрес;\n",
    "    - number — количество посадочных мест.\n",
    "    \n",
    "\n",
    "2. **Таблица data_area (информация об улицах и районах Москвы из открытого источника: data.mos.ru):**\n",
    "    - street_all — название улицы;\n",
    "    - area — район.\n",
    "    \n",
    "    *ссылка на датасет - https://yadi.sk/i/HiLd1XL5pOzKpw*\n",
    "    *, ссылка на корневую папку - https://yadi.sk/d/aFe9Xa32bCen-Q* "
   ]
  },
  {
   "cell_type": "markdown",
   "metadata": {},
   "source": [
    "<h3> Этапы исследования </h3>\n",
    "\n",
    "1. Изучение общей информации о датасетах и предобработка данных.\n",
    "2. Анализ рынка.\n",
    "3. Выводы."
   ]
  },
  {
   "cell_type": "markdown",
   "metadata": {},
   "source": [
    "<h3>Импорт библиотек</h3>"
   ]
  },
  {
   "cell_type": "code",
   "execution_count": 1,
   "metadata": {},
   "outputs": [],
   "source": [
    "import pandas as pd\n",
    "import numpy as np\n",
    "import matplotlib.pyplot as plt\n",
    "import seaborn as sns\n",
    "import plotly.express as px\n",
    "from plotly import graph_objects as go"
   ]
  },
  {
   "cell_type": "markdown",
   "metadata": {},
   "source": [
    "<h3>1. Изучение общей информации о датасетах и предобработка данных</h3>"
   ]
  },
  {
   "cell_type": "code",
   "execution_count": 2,
   "metadata": {},
   "outputs": [],
   "source": [
    "df=pd.read_csv('rest_data.csv')"
   ]
  },
  {
   "cell_type": "code",
   "execution_count": 3,
   "metadata": {},
   "outputs": [
    {
     "data": {
      "text/html": [
       "<div>\n",
       "<style scoped>\n",
       "    .dataframe tbody tr th:only-of-type {\n",
       "        vertical-align: middle;\n",
       "    }\n",
       "\n",
       "    .dataframe tbody tr th {\n",
       "        vertical-align: top;\n",
       "    }\n",
       "\n",
       "    .dataframe thead th {\n",
       "        text-align: right;\n",
       "    }\n",
       "</style>\n",
       "<table border=\"1\" class=\"dataframe\">\n",
       "  <thead>\n",
       "    <tr style=\"text-align: right;\">\n",
       "      <th></th>\n",
       "      <th>id</th>\n",
       "      <th>object_name</th>\n",
       "      <th>chain</th>\n",
       "      <th>object_type</th>\n",
       "      <th>address</th>\n",
       "      <th>number</th>\n",
       "    </tr>\n",
       "  </thead>\n",
       "  <tbody>\n",
       "    <tr>\n",
       "      <th>0</th>\n",
       "      <td>151635</td>\n",
       "      <td>СМЕТАНА</td>\n",
       "      <td>нет</td>\n",
       "      <td>кафе</td>\n",
       "      <td>город Москва, улица Егора Абакумова, дом 9</td>\n",
       "      <td>48</td>\n",
       "    </tr>\n",
       "    <tr>\n",
       "      <th>1</th>\n",
       "      <td>77874</td>\n",
       "      <td>Родник</td>\n",
       "      <td>нет</td>\n",
       "      <td>кафе</td>\n",
       "      <td>город Москва, улица Талалихина, дом 2/1, корпус 1</td>\n",
       "      <td>35</td>\n",
       "    </tr>\n",
       "    <tr>\n",
       "      <th>2</th>\n",
       "      <td>24309</td>\n",
       "      <td>Кафе «Академия»</td>\n",
       "      <td>нет</td>\n",
       "      <td>кафе</td>\n",
       "      <td>город Москва, Абельмановская улица, дом 6</td>\n",
       "      <td>95</td>\n",
       "    </tr>\n",
       "    <tr>\n",
       "      <th>3</th>\n",
       "      <td>21894</td>\n",
       "      <td>ПИЦЦЕТОРИЯ</td>\n",
       "      <td>да</td>\n",
       "      <td>кафе</td>\n",
       "      <td>город Москва, Абрамцевская улица, дом 1</td>\n",
       "      <td>40</td>\n",
       "    </tr>\n",
       "    <tr>\n",
       "      <th>4</th>\n",
       "      <td>119365</td>\n",
       "      <td>Кафе «Вишневая метель»</td>\n",
       "      <td>нет</td>\n",
       "      <td>кафе</td>\n",
       "      <td>город Москва, Абрамцевская улица, дом 9, корпус 1</td>\n",
       "      <td>50</td>\n",
       "    </tr>\n",
       "  </tbody>\n",
       "</table>\n",
       "</div>"
      ],
      "text/plain": [
       "       id             object_name chain object_type  \\\n",
       "0  151635                 СМЕТАНА   нет        кафе   \n",
       "1   77874                  Родник   нет        кафе   \n",
       "2   24309         Кафе «Академия»   нет        кафе   \n",
       "3   21894              ПИЦЦЕТОРИЯ    да        кафе   \n",
       "4  119365  Кафе «Вишневая метель»   нет        кафе   \n",
       "\n",
       "                                             address  number  \n",
       "0         город Москва, улица Егора Абакумова, дом 9      48  \n",
       "1  город Москва, улица Талалихина, дом 2/1, корпус 1      35  \n",
       "2          город Москва, Абельмановская улица, дом 6      95  \n",
       "3            город Москва, Абрамцевская улица, дом 1      40  \n",
       "4  город Москва, Абрамцевская улица, дом 9, корпус 1      50  "
      ]
     },
     "execution_count": 3,
     "metadata": {},
     "output_type": "execute_result"
    }
   ],
   "source": [
    "df.head()"
   ]
  },
  {
   "cell_type": "code",
   "execution_count": 4,
   "metadata": {},
   "outputs": [
    {
     "name": "stdout",
     "output_type": "stream",
     "text": [
      "<class 'pandas.core.frame.DataFrame'>\n",
      "RangeIndex: 15366 entries, 0 to 15365\n",
      "Data columns (total 6 columns):\n",
      " #   Column       Non-Null Count  Dtype \n",
      "---  ------       --------------  ----- \n",
      " 0   id           15366 non-null  int64 \n",
      " 1   object_name  15366 non-null  object\n",
      " 2   chain        15366 non-null  object\n",
      " 3   object_type  15366 non-null  object\n",
      " 4   address      15366 non-null  object\n",
      " 5   number       15366 non-null  int64 \n",
      "dtypes: int64(2), object(4)\n",
      "memory usage: 720.4+ KB\n"
     ]
    }
   ],
   "source": [
    "df.info()"
   ]
  },
  {
   "cell_type": "code",
   "execution_count": 5,
   "metadata": {},
   "outputs": [
    {
     "data": {
      "text/plain": [
       "id             0.0\n",
       "object_name    0.0\n",
       "chain          0.0\n",
       "object_type    0.0\n",
       "address        0.0\n",
       "number         0.0\n",
       "dtype: float64"
      ]
     },
     "execution_count": 5,
     "metadata": {},
     "output_type": "execute_result"
    }
   ],
   "source": [
    "df.isna().mean()"
   ]
  },
  {
   "cell_type": "code",
   "execution_count": 6,
   "metadata": {},
   "outputs": [
    {
     "data": {
      "text/plain": [
       "0"
      ]
     },
     "execution_count": 6,
     "metadata": {},
     "output_type": "execute_result"
    }
   ],
   "source": [
    "df.duplicated().sum()"
   ]
  },
  {
   "cell_type": "code",
   "execution_count": 7,
   "metadata": {},
   "outputs": [
    {
     "data": {
      "text/plain": [
       "15366"
      ]
     },
     "execution_count": 7,
     "metadata": {},
     "output_type": "execute_result"
    }
   ],
   "source": [
    "df['id'].value_counts().sum()"
   ]
  },
  {
   "cell_type": "code",
   "execution_count": 8,
   "metadata": {},
   "outputs": [
    {
     "data": {
      "text/plain": [
       "кафе                                 6099\n",
       "столовая                             2587\n",
       "ресторан                             2285\n",
       "предприятие быстрого обслуживания    1923\n",
       "бар                                   856\n",
       "буфет                                 585\n",
       "кафетерий                             398\n",
       "закусочная                            360\n",
       "магазин (отдел кулинарии)             273\n",
       "Name: object_type, dtype: int64"
      ]
     },
     "execution_count": 8,
     "metadata": {},
     "output_type": "execute_result"
    }
   ],
   "source": [
    "df['object_type'].value_counts()"
   ]
  },
  {
   "cell_type": "code",
   "execution_count": 9,
   "metadata": {},
   "outputs": [],
   "source": [
    "df.loc[df['chain']=='нет', 'chain_boolean']=0\n",
    "df.loc[df['chain']=='да', 'chain_boolean']=1"
   ]
  },
  {
   "cell_type": "code",
   "execution_count": 10,
   "metadata": {},
   "outputs": [
    {
     "data": {
      "text/html": [
       "<div>\n",
       "<style scoped>\n",
       "    .dataframe tbody tr th:only-of-type {\n",
       "        vertical-align: middle;\n",
       "    }\n",
       "\n",
       "    .dataframe tbody tr th {\n",
       "        vertical-align: top;\n",
       "    }\n",
       "\n",
       "    .dataframe thead th {\n",
       "        text-align: right;\n",
       "    }\n",
       "</style>\n",
       "<table border=\"1\" class=\"dataframe\">\n",
       "  <thead>\n",
       "    <tr style=\"text-align: right;\">\n",
       "      <th></th>\n",
       "      <th>id</th>\n",
       "      <th>object_name</th>\n",
       "      <th>chain</th>\n",
       "      <th>object_type</th>\n",
       "      <th>address</th>\n",
       "      <th>number</th>\n",
       "      <th>chain_boolean</th>\n",
       "    </tr>\n",
       "  </thead>\n",
       "  <tbody>\n",
       "    <tr>\n",
       "      <th>0</th>\n",
       "      <td>151635</td>\n",
       "      <td>СМЕТАНА</td>\n",
       "      <td>нет</td>\n",
       "      <td>кафе</td>\n",
       "      <td>город Москва, улица Егора Абакумова, дом 9</td>\n",
       "      <td>48</td>\n",
       "      <td>0.0</td>\n",
       "    </tr>\n",
       "    <tr>\n",
       "      <th>1</th>\n",
       "      <td>77874</td>\n",
       "      <td>Родник</td>\n",
       "      <td>нет</td>\n",
       "      <td>кафе</td>\n",
       "      <td>город Москва, улица Талалихина, дом 2/1, корпус 1</td>\n",
       "      <td>35</td>\n",
       "      <td>0.0</td>\n",
       "    </tr>\n",
       "    <tr>\n",
       "      <th>2</th>\n",
       "      <td>24309</td>\n",
       "      <td>Кафе «Академия»</td>\n",
       "      <td>нет</td>\n",
       "      <td>кафе</td>\n",
       "      <td>город Москва, Абельмановская улица, дом 6</td>\n",
       "      <td>95</td>\n",
       "      <td>0.0</td>\n",
       "    </tr>\n",
       "    <tr>\n",
       "      <th>3</th>\n",
       "      <td>21894</td>\n",
       "      <td>ПИЦЦЕТОРИЯ</td>\n",
       "      <td>да</td>\n",
       "      <td>кафе</td>\n",
       "      <td>город Москва, Абрамцевская улица, дом 1</td>\n",
       "      <td>40</td>\n",
       "      <td>1.0</td>\n",
       "    </tr>\n",
       "    <tr>\n",
       "      <th>4</th>\n",
       "      <td>119365</td>\n",
       "      <td>Кафе «Вишневая метель»</td>\n",
       "      <td>нет</td>\n",
       "      <td>кафе</td>\n",
       "      <td>город Москва, Абрамцевская улица, дом 9, корпус 1</td>\n",
       "      <td>50</td>\n",
       "      <td>0.0</td>\n",
       "    </tr>\n",
       "  </tbody>\n",
       "</table>\n",
       "</div>"
      ],
      "text/plain": [
       "       id             object_name chain object_type  \\\n",
       "0  151635                 СМЕТАНА   нет        кафе   \n",
       "1   77874                  Родник   нет        кафе   \n",
       "2   24309         Кафе «Академия»   нет        кафе   \n",
       "3   21894              ПИЦЦЕТОРИЯ    да        кафе   \n",
       "4  119365  Кафе «Вишневая метель»   нет        кафе   \n",
       "\n",
       "                                             address  number  chain_boolean  \n",
       "0         город Москва, улица Егора Абакумова, дом 9      48            0.0  \n",
       "1  город Москва, улица Талалихина, дом 2/1, корпус 1      35            0.0  \n",
       "2          город Москва, Абельмановская улица, дом 6      95            0.0  \n",
       "3            город Москва, Абрамцевская улица, дом 1      40            1.0  \n",
       "4  город Москва, Абрамцевская улица, дом 9, корпус 1      50            0.0  "
      ]
     },
     "execution_count": 10,
     "metadata": {},
     "output_type": "execute_result"
    }
   ],
   "source": [
    "df.head(5)"
   ]
  },
  {
   "cell_type": "markdown",
   "metadata": {},
   "source": [
    "**Пропущенные значения отсутсвуют, дубликаты не выявлены, типы данных столбцов верны.**\n",
    "Для дальнейшего удобства анализа был создан столбец 'chain_bul', это столбец 'chain' в формате boolean."
   ]
  },
  {
   "cell_type": "markdown",
   "metadata": {},
   "source": [
    "<h3>2. Анализ рынка</h3>"
   ]
  },
  {
   "cell_type": "code",
   "execution_count": 11,
   "metadata": {},
   "outputs": [],
   "source": [
    "pivot_type=df.pivot_table(index='object_type', values='id', aggfunc='count').reset_index().sort_values(by='id')\n",
    "pivot_type.columns=['object_type', 'count']"
   ]
  },
  {
   "cell_type": "code",
   "execution_count": 12,
   "metadata": {},
   "outputs": [],
   "source": [
    "pivot_type['%']=pivot_type['count']/pivot_type['count'].sum()"
   ]
  },
  {
   "cell_type": "code",
   "execution_count": 13,
   "metadata": {},
   "outputs": [
    {
     "data": {
      "image/png": "[encoded data removed]",
      "text/plain": [
       "<Figure size 1152x504 with 2 Axes>"
      ]
     },
     "metadata": {
      "needs_background": "light"
     },
     "output_type": "display_data"
    }
   ],
   "source": [
    "plt.style.use('seaborn-pastel') \n",
    "fig=plt.figure(figsize=(16,7))\n",
    "\n",
    "ax_1=fig.add_subplot(1,2,1)\n",
    "ax_2=fig.add_subplot(1,2,2)\n",
    "\n",
    "ax_2.pie(pivot_type['%'], labels=pivot_type['object_type'], shadow= True,autopct='%1.0f%%')\n",
    "plt.title('Структура рынка заведений общественного питания Москвы')\n",
    "#sns.barplot(x='count', y='object_type', data=pivot_type, ax=ax_1)\n",
    "#y.title('Число заведений по видам')\n",
    "pivot_type.plot(x='object_type', y='count', ax=ax_1, kind='barh', title='Число заведений по видам')\n",
    "plt.show()\n",
    "#a.set_xticklabels(rotation=30)"
   ]
  },
  {
   "cell_type": "markdown",
   "metadata": {},
   "source": [
    "***Явно выделяется четверка лидеров по количеству заведений в г. Москва: кафе (40% от всех заведений), столовая (17% от всех заведений), ресторан (15%) и предприятие быстрого обслуживания (13%).***  \n",
    "Аутсайдеры: буфет, кафетерий, закусочная и отдел кулинарии, каждый из этих видов занимает меньше 5% рынка. "
   ]
  },
  {
   "cell_type": "code",
   "execution_count": 14,
   "metadata": {},
   "outputs": [],
   "source": [
    "pivot_chain=df.pivot_table(index='chain', values='id', aggfunc='count').reset_index().sort_values(by='id')\n",
    "pivot_chain.columns=['chain', 'count']"
   ]
  },
  {
   "cell_type": "code",
   "execution_count": 15,
   "metadata": {},
   "outputs": [],
   "source": [
    "pivot_chain['%']=pivot_chain['count']/pivot_chain['count'].sum()\n",
    "pivot_chain['type']=['сеть', 'не сеть']"
   ]
  },
  {
   "cell_type": "code",
   "execution_count": 16,
   "metadata": {},
   "outputs": [
    {
     "data": {
      "text/html": [
       "<div>\n",
       "<style scoped>\n",
       "    .dataframe tbody tr th:only-of-type {\n",
       "        vertical-align: middle;\n",
       "    }\n",
       "\n",
       "    .dataframe tbody tr th {\n",
       "        vertical-align: top;\n",
       "    }\n",
       "\n",
       "    .dataframe thead th {\n",
       "        text-align: right;\n",
       "    }\n",
       "</style>\n",
       "<table border=\"1\" class=\"dataframe\">\n",
       "  <thead>\n",
       "    <tr style=\"text-align: right;\">\n",
       "      <th></th>\n",
       "      <th>chain</th>\n",
       "      <th>count</th>\n",
       "      <th>%</th>\n",
       "      <th>type</th>\n",
       "    </tr>\n",
       "  </thead>\n",
       "  <tbody>\n",
       "    <tr>\n",
       "      <th>0</th>\n",
       "      <td>да</td>\n",
       "      <td>2968</td>\n",
       "      <td>0.193154</td>\n",
       "      <td>сеть</td>\n",
       "    </tr>\n",
       "    <tr>\n",
       "      <th>1</th>\n",
       "      <td>нет</td>\n",
       "      <td>12398</td>\n",
       "      <td>0.806846</td>\n",
       "      <td>не сеть</td>\n",
       "    </tr>\n",
       "  </tbody>\n",
       "</table>\n",
       "</div>"
      ],
      "text/plain": [
       "  chain  count         %     type\n",
       "0    да   2968  0.193154     сеть\n",
       "1   нет  12398  0.806846  не сеть"
      ]
     },
     "execution_count": 16,
     "metadata": {},
     "output_type": "execute_result"
    }
   ],
   "source": [
    "pivot_chain"
   ]
  },
  {
   "cell_type": "code",
   "execution_count": 17,
   "metadata": {},
   "outputs": [
    {
     "data": {
      "image/png": "[encoded data removed]",
      "text/plain": [
       "<Figure size 1152x360 with 2 Axes>"
      ]
     },
     "metadata": {
      "needs_background": "light"
     },
     "output_type": "display_data"
    }
   ],
   "source": [
    "plt.style.use('seaborn-pastel') \n",
    "fig=plt.figure(figsize=(16,5))\n",
    "\n",
    "ax_1=fig.add_subplot(1,2,1)\n",
    "ax_2=fig.add_subplot(1,2,2)\n",
    "\n",
    "ax_2.pie(pivot_chain['%'], labels=pivot_chain['type'], shadow= True,autopct='%1.0f%%', explode=(0.1,0))\n",
    "plt.title('Структура рынка заведений общественного питания Москвы')\n",
    "pivot_chain.plot(x='type', y='count', ax=ax_1, kind='bar', title='Число заведений по видам', color=['#87CEFA','#98FB98'])\n",
    "plt.show()"
   ]
  },
  {
   "cell_type": "markdown",
   "metadata": {},
   "source": [
    "Сетевых заведений намного меньше, чем несетевых: ***сетевые 19% рынка (или 2968 заведений), несетевые 81% рынка (или 12398 заведений).***"
   ]
  },
  {
   "cell_type": "code",
   "execution_count": 18,
   "metadata": {},
   "outputs": [],
   "source": [
    "pivot_chain_type=df.pivot_table(index='object_type', values='chain_boolean', aggfunc=('mean','sum','count')).reset_index().sort_values(by='sum')\n",
    "pivot_chain_type.columns=['object_type','count_all','%chain_in_type','count_chain']\n",
    "pivot_chain_type['%chain_in_type']=pivot_chain_type['%chain_in_type'].round(3)"
   ]
  },
  {
   "cell_type": "code",
   "execution_count": 19,
   "metadata": {},
   "outputs": [
    {
     "data": {
      "text/html": [
       "<div>\n",
       "<style scoped>\n",
       "    .dataframe tbody tr th:only-of-type {\n",
       "        vertical-align: middle;\n",
       "    }\n",
       "\n",
       "    .dataframe tbody tr th {\n",
       "        vertical-align: top;\n",
       "    }\n",
       "\n",
       "    .dataframe thead th {\n",
       "        text-align: right;\n",
       "    }\n",
       "</style>\n",
       "<table border=\"1\" class=\"dataframe\">\n",
       "  <thead>\n",
       "    <tr style=\"text-align: right;\">\n",
       "      <th></th>\n",
       "      <th>object_type</th>\n",
       "      <th>count_all</th>\n",
       "      <th>%chain_in_type</th>\n",
       "      <th>count_chain</th>\n",
       "    </tr>\n",
       "  </thead>\n",
       "  <tbody>\n",
       "    <tr>\n",
       "      <th>8</th>\n",
       "      <td>столовая</td>\n",
       "      <td>2587</td>\n",
       "      <td>0.001</td>\n",
       "      <td>3.0</td>\n",
       "    </tr>\n",
       "    <tr>\n",
       "      <th>1</th>\n",
       "      <td>буфет</td>\n",
       "      <td>585</td>\n",
       "      <td>0.019</td>\n",
       "      <td>11.0</td>\n",
       "    </tr>\n",
       "    <tr>\n",
       "      <th>0</th>\n",
       "      <td>бар</td>\n",
       "      <td>856</td>\n",
       "      <td>0.043</td>\n",
       "      <td>37.0</td>\n",
       "    </tr>\n",
       "    <tr>\n",
       "      <th>4</th>\n",
       "      <td>кафетерий</td>\n",
       "      <td>398</td>\n",
       "      <td>0.131</td>\n",
       "      <td>52.0</td>\n",
       "    </tr>\n",
       "    <tr>\n",
       "      <th>2</th>\n",
       "      <td>закусочная</td>\n",
       "      <td>360</td>\n",
       "      <td>0.156</td>\n",
       "      <td>56.0</td>\n",
       "    </tr>\n",
       "    <tr>\n",
       "      <th>5</th>\n",
       "      <td>магазин (отдел кулинарии)</td>\n",
       "      <td>273</td>\n",
       "      <td>0.286</td>\n",
       "      <td>78.0</td>\n",
       "    </tr>\n",
       "    <tr>\n",
       "      <th>7</th>\n",
       "      <td>ресторан</td>\n",
       "      <td>2285</td>\n",
       "      <td>0.238</td>\n",
       "      <td>544.0</td>\n",
       "    </tr>\n",
       "    <tr>\n",
       "      <th>6</th>\n",
       "      <td>предприятие быстрого обслуживания</td>\n",
       "      <td>1923</td>\n",
       "      <td>0.411</td>\n",
       "      <td>791.0</td>\n",
       "    </tr>\n",
       "    <tr>\n",
       "      <th>3</th>\n",
       "      <td>кафе</td>\n",
       "      <td>6099</td>\n",
       "      <td>0.229</td>\n",
       "      <td>1396.0</td>\n",
       "    </tr>\n",
       "  </tbody>\n",
       "</table>\n",
       "</div>"
      ],
      "text/plain": [
       "                         object_type  count_all  %chain_in_type  count_chain\n",
       "8                           столовая       2587           0.001          3.0\n",
       "1                              буфет        585           0.019         11.0\n",
       "0                                бар        856           0.043         37.0\n",
       "4                          кафетерий        398           0.131         52.0\n",
       "2                         закусочная        360           0.156         56.0\n",
       "5          магазин (отдел кулинарии)        273           0.286         78.0\n",
       "7                           ресторан       2285           0.238        544.0\n",
       "6  предприятие быстрого обслуживания       1923           0.411        791.0\n",
       "3                               кафе       6099           0.229       1396.0"
      ]
     },
     "execution_count": 19,
     "metadata": {},
     "output_type": "execute_result"
    }
   ],
   "source": [
    "pivot_chain_type"
   ]
  },
  {
   "cell_type": "code",
   "execution_count": 20,
   "metadata": {},
   "outputs": [
    {
     "data": {
      "image/png": "[encoded data removed]",
      "text/plain": [
       "<Figure size 1152x360 with 1 Axes>"
      ]
     },
     "metadata": {
      "needs_background": "light"
     },
     "output_type": "display_data"
    },
    {
     "data": {
      "image/png": "[encoded data removed]",
      "text/plain": [
       "<Figure size 1152x360 with 1 Axes>"
      ]
     },
     "metadata": {
      "needs_background": "light"
     },
     "output_type": "display_data"
    }
   ],
   "source": [
    "plt.style.use('seaborn-pastel') \n",
    "ax_1=pivot_chain_type.plot(x='object_type', y='count_chain', kind='barh', title='Число сетевых заведений в типе', color='#98FB98')\n",
    "pivot_chain_type.plot(x='object_type', y='count_all', ax=ax_1, kind='barh', alpha=0.5, figsize=(16,5), color='#87CEFA')\n",
    "plt.yticks(rotation=30)\n",
    "plt.show()\n",
    "\n",
    "pivot_chain_type.plot(kind='barh', x='object_type', y='%chain_in_type',title='Доля сетевых заведений в типе', \n",
    "                      figsize=(16,5), color='#FFF773')\n",
    "plt.yticks(rotation=30)\n",
    "plt.show()"
   ]
  },
  {
   "cell_type": "markdown",
   "metadata": {},
   "source": [
    "***Наиболее характерно сетевое распространение по доле сетевых заведений - для предприятий быстрого питания (около 41% сетевых заведений) и отдела кулинарии (около 29% сетевых заведений). Рестораны и кафе показывают приблизительно одинаковый результат: около 23% сетевых заведений.***\n",
    "\n",
    "По количеству же сетевых заведений лидирует кафе, за счет лидерства по общему числу заведений.  "
   ]
  },
  {
   "cell_type": "code",
   "execution_count": 21,
   "metadata": {},
   "outputs": [],
   "source": [
    "df['group_number']=df['number']\n",
    "df.loc[df['number']<20,'group_number']='до 20 мест'\n",
    "df.loc[(df['number']>=20) & (df['number']<40),'group_number']='от 20 до 40 мест'\n",
    "df.loc[(df['number']>=40) & (df['number']<60),'group_number']='от 40 до 60 мест'\n",
    "df.loc[df['number']>=60,'group_number']='от 60 мест'"
   ]
  },
  {
   "cell_type": "code",
   "execution_count": 22,
   "metadata": {},
   "outputs": [],
   "source": [
    "pivot_gr_num=df[df['chain']=='да'].pivot_table(index='group_number', values='id', aggfunc='count').reset_index()"
   ]
  },
  {
   "cell_type": "code",
   "execution_count": 23,
   "metadata": {},
   "outputs": [],
   "source": [
    "pivot_gr_num.columns=['group_number','count_object']"
   ]
  },
  {
   "cell_type": "code",
   "execution_count": 24,
   "metadata": {},
   "outputs": [
    {
     "data": {
      "text/html": [
       "<div>\n",
       "<style scoped>\n",
       "    .dataframe tbody tr th:only-of-type {\n",
       "        vertical-align: middle;\n",
       "    }\n",
       "\n",
       "    .dataframe tbody tr th {\n",
       "        vertical-align: top;\n",
       "    }\n",
       "\n",
       "    .dataframe thead th {\n",
       "        text-align: right;\n",
       "    }\n",
       "</style>\n",
       "<table border=\"1\" class=\"dataframe\">\n",
       "  <thead>\n",
       "    <tr style=\"text-align: right;\">\n",
       "      <th></th>\n",
       "      <th>group_number</th>\n",
       "      <th>count_object</th>\n",
       "    </tr>\n",
       "  </thead>\n",
       "  <tbody>\n",
       "    <tr>\n",
       "      <th>0</th>\n",
       "      <td>до 20 мест</td>\n",
       "      <td>858</td>\n",
       "    </tr>\n",
       "    <tr>\n",
       "      <th>1</th>\n",
       "      <td>от 20 до 40 мест</td>\n",
       "      <td>587</td>\n",
       "    </tr>\n",
       "    <tr>\n",
       "      <th>2</th>\n",
       "      <td>от 40 до 60 мест</td>\n",
       "      <td>563</td>\n",
       "    </tr>\n",
       "    <tr>\n",
       "      <th>3</th>\n",
       "      <td>от 60 мест</td>\n",
       "      <td>960</td>\n",
       "    </tr>\n",
       "  </tbody>\n",
       "</table>\n",
       "</div>"
      ],
      "text/plain": [
       "       group_number  count_object\n",
       "0        до 20 мест           858\n",
       "1  от 20 до 40 мест           587\n",
       "2  от 40 до 60 мест           563\n",
       "3        от 60 мест           960"
      ]
     },
     "metadata": {},
     "output_type": "display_data"
    },
    {
     "data": {
      "image/png": "[encoded data removed]",
      "text/plain": [
       "<Figure size 864x216 with 1 Axes>"
      ]
     },
     "metadata": {
      "needs_background": "light"
     },
     "output_type": "display_data"
    }
   ],
   "source": [
    "display(pivot_gr_num)\n",
    "pivot_gr_num.plot(x='group_number', y='count_object', kind='bar', ylim=(500,1000), figsize=(12,3), \n",
    "                  title='Число заведений по количеству посадочных мест')\n",
    "plt.xticks(rotation=30)\n",
    "plt.show()"
   ]
  },
  {
   "cell_type": "markdown",
   "metadata": {},
   "source": [
    "***Для сетевых заведений не наблюдается ярко выраженного характера по количеству посадочных мест: 858 сетевых заведений имеют меньше 20 мест, 1150 заведений от 20 до 60 мест и 960 заведений более 60 мест.*** Таким образом, можно отметить, что сетевые заведения практически в равной степени имеют как малое число мест, среднее так и большое.  \n",
    "\n",
    "**<font color=\"blue\">Деление на диапазоны </font>**\n",
    "\n",
    "Размеры объектов питания (большие, маленькие и другие) гос. нормативами не определено, поэтому диапазоны были определены на основе экспертного суждения аналитика.  \n",
    "Было принято решение число мест разбить на диапазоны в зависимости от необходимой площади для данного числа мест. \n",
    "Согласно ТСН 31-320-2000 г.Москвы \"Предприятия общественного питания\" в среднем по видам объектов питания необходимая площадь зала для одного посадочного места в зале - 1.7 кв.м, таким образом, были определены 4 диапазона: объекты с залом меньше 35 кв.м - маленькие, объекты меньше 70 кв.м - средние ближе к маленьким, объекты меньше 100 кв.м - средние, объекты с залом больше 100 кв.м - большие. (число мест в диапазонах было округлено до близких круглых значений). Впоследствии (при анализе графика), два диапазона \"средние ближе к маленьким\" и \"средние\" было принято объединить. \n",
    "Данное разбиение применимо только к общим данным (данным, где присутствуют все виды объектов питания), если рассматривать виды объектов питания отдельно - для каждого вида будут свои диапазоны размеров. При более углубленно исследовании можно было бы присвоить статус заведению (маленькое, среднее или большое) исходя из вида заведения и количества мест, а не только из количества мест."
   ]
  },
  {
   "cell_type": "code",
   "execution_count": 25,
   "metadata": {},
   "outputs": [],
   "source": [
    "pivot_median_num=df.pivot_table(index='object_type', values='number', aggfunc=['median','mean']).reset_index()\n",
    "pivot_median_num.columns=['object_type', 'median_number','mean_number']\n"
   ]
  },
  {
   "cell_type": "code",
   "execution_count": 26,
   "metadata": {},
   "outputs": [],
   "source": [
    "pivot_median_num=pivot_median_num.sort_values(by='median_number')"
   ]
  },
  {
   "cell_type": "code",
   "execution_count": 27,
   "metadata": {},
   "outputs": [
    {
     "data": {
      "text/html": [
       "<div>\n",
       "<style scoped>\n",
       "    .dataframe tbody tr th:only-of-type {\n",
       "        vertical-align: middle;\n",
       "    }\n",
       "\n",
       "    .dataframe tbody tr th {\n",
       "        vertical-align: top;\n",
       "    }\n",
       "\n",
       "    .dataframe thead th {\n",
       "        text-align: right;\n",
       "    }\n",
       "</style>\n",
       "<table border=\"1\" class=\"dataframe\">\n",
       "  <thead>\n",
       "    <tr style=\"text-align: right;\">\n",
       "      <th></th>\n",
       "      <th>object_type</th>\n",
       "      <th>median_number</th>\n",
       "      <th>mean_number</th>\n",
       "    </tr>\n",
       "  </thead>\n",
       "  <tbody>\n",
       "    <tr>\n",
       "      <th>2</th>\n",
       "      <td>закусочная</td>\n",
       "      <td>0</td>\n",
       "      <td>7.608333</td>\n",
       "    </tr>\n",
       "    <tr>\n",
       "      <th>5</th>\n",
       "      <td>магазин (отдел кулинарии)</td>\n",
       "      <td>0</td>\n",
       "      <td>5.589744</td>\n",
       "    </tr>\n",
       "    <tr>\n",
       "      <th>6</th>\n",
       "      <td>предприятие быстрого обслуживания</td>\n",
       "      <td>5</td>\n",
       "      <td>20.552262</td>\n",
       "    </tr>\n",
       "    <tr>\n",
       "      <th>4</th>\n",
       "      <td>кафетерий</td>\n",
       "      <td>6</td>\n",
       "      <td>9.123116</td>\n",
       "    </tr>\n",
       "    <tr>\n",
       "      <th>3</th>\n",
       "      <td>кафе</td>\n",
       "      <td>30</td>\n",
       "      <td>39.716019</td>\n",
       "    </tr>\n",
       "    <tr>\n",
       "      <th>1</th>\n",
       "      <td>буфет</td>\n",
       "      <td>32</td>\n",
       "      <td>51.129915</td>\n",
       "    </tr>\n",
       "    <tr>\n",
       "      <th>0</th>\n",
       "      <td>бар</td>\n",
       "      <td>35</td>\n",
       "      <td>43.494159</td>\n",
       "    </tr>\n",
       "    <tr>\n",
       "      <th>7</th>\n",
       "      <td>ресторан</td>\n",
       "      <td>80</td>\n",
       "      <td>96.834136</td>\n",
       "    </tr>\n",
       "    <tr>\n",
       "      <th>8</th>\n",
       "      <td>столовая</td>\n",
       "      <td>103</td>\n",
       "      <td>130.246618</td>\n",
       "    </tr>\n",
       "  </tbody>\n",
       "</table>\n",
       "</div>"
      ],
      "text/plain": [
       "                         object_type  median_number  mean_number\n",
       "2                         закусочная              0     7.608333\n",
       "5          магазин (отдел кулинарии)              0     5.589744\n",
       "6  предприятие быстрого обслуживания              5    20.552262\n",
       "4                          кафетерий              6     9.123116\n",
       "3                               кафе             30    39.716019\n",
       "1                              буфет             32    51.129915\n",
       "0                                бар             35    43.494159\n",
       "7                           ресторан             80    96.834136\n",
       "8                           столовая            103   130.246618"
      ]
     },
     "metadata": {},
     "output_type": "display_data"
    },
    {
     "data": {
      "image/png": "[encoded data removed]",
      "text/plain": [
       "<Figure size 1152x360 with 1 Axes>"
      ]
     },
     "metadata": {
      "needs_background": "light"
     },
     "output_type": "display_data"
    },
    {
     "data": {
      "image/png": "[encoded data removed]",
      "text/plain": [
       "<Figure size 720x360 with 1 Axes>"
      ]
     },
     "metadata": {
      "needs_background": "light"
     },
     "output_type": "display_data"
    }
   ],
   "source": [
    "display(pivot_median_num)\n",
    "\n",
    "# добавил сортировку данных до построения диаграмм\n",
    "tmp_sorted = pivot_median_num.sort_values(by='median_number', ascending=False)\n",
    "\n",
    "# ниже использую сортированные данные для выстраивания боксплотов по порядку \n",
    "fig=plt.figure(figsize=(16,5))\n",
    "sns.boxplot(x=\"object_type\", y=\"number\", data=df, order=tmp_sorted['object_type'])\n",
    "plt.ylim(0,700)\n",
    "plt.xticks(rotation=30)\n",
    "plt.title('Диаграмма размаха посадочных мест по объектам')\n",
    "plt.show()\n",
    "\n",
    "fig=plt.figure(figsize=(10,5))\n",
    "sns.barplot(x='median_number', y='object_type', data=pivot_median_num.sort_values(by='median_number', ascending=False))\n",
    "plt.yticks(rotation=30)\n",
    "plt.title('Медиана посадочных мест по типу заведений')\n",
    "#plt.legend(loc='lower right')\n",
    "plt.show()"
   ]
  },
  {
   "cell_type": "markdown",
   "metadata": {},
   "source": [
    "***Явным лидером по числу посадочных мест являются столовые и рестораны, в среднем по медиане 103 и 80 посадочных мест соответственно.*** Далее идут бар, буфет и кафе приблизительно с равными медианами числа посадочных мест - 35, 32 и 30 соответственно.\n",
    "\n",
    "Значительные выбросы наблюдаются у ресторанов и кафе. "
   ]
  },
  {
   "cell_type": "code",
   "execution_count": 28,
   "metadata": {},
   "outputs": [],
   "source": [
    "# выделение улицы из ячейки с полным адресом где город на первом месте\n",
    "\n",
    "import re\n",
    "words = ['улица','ул','переулок','шоссе','проспект','площадь','проезд',\n",
    "         'село','аллея','бульвар','набережная','тупик','линия','город','квартал', 'поселение', 'деревня','километр', \n",
    "         'микрорайон', 'посёлок', 'территория']\n",
    "\n",
    "str_pat_1 = r\".*,\\s*\\b([^,]*?(?:{})\\b[^,]*)[,$]+\".format(\"|\".join(words))\n",
    "\n",
    "df[\"street_1\"] = df[\"address\"].str.extract(str_pat_1,flags=re.I)"
   ]
  },
  {
   "cell_type": "code",
   "execution_count": 29,
   "metadata": {},
   "outputs": [],
   "source": [
    "# выделение улицы из ячейки с полным адресом где в адресе нет города\n",
    "\n",
    "words = ['улица','ул','переулок','шоссе','проспект','площадь','проезд',\n",
    "         'село','аллея','бульвар','набережная','тупик','линия','город','квартал', 'поселение', 'деревня','километр', \n",
    "         'микрорайон', 'посёлок', 'территория']\n",
    "\n",
    "str_pat_2 = r\"\\s*\\b([^,]*?(?:{})\\b[^,]*)[,$]+\".format(\"|\".join(words))\n",
    "\n",
    "df[\"street_2\"] = df[\"address\"].str.extract(str_pat_2,flags=re.I)"
   ]
  },
  {
   "cell_type": "code",
   "execution_count": 30,
   "metadata": {},
   "outputs": [
    {
     "name": "stdout",
     "output_type": "stream",
     "text": [
      "<class 'pandas.core.frame.DataFrame'>\n",
      "RangeIndex: 15366 entries, 0 to 15365\n",
      "Data columns (total 9 columns):\n",
      " #   Column         Non-Null Count  Dtype  \n",
      "---  ------         --------------  -----  \n",
      " 0   id             15366 non-null  int64  \n",
      " 1   object_name    15366 non-null  object \n",
      " 2   chain          15366 non-null  object \n",
      " 3   object_type    15366 non-null  object \n",
      " 4   address        15366 non-null  object \n",
      " 5   number         15366 non-null  int64  \n",
      " 6   chain_boolean  15366 non-null  float64\n",
      " 7   group_number   15366 non-null  object \n",
      " 8   street         15366 non-null  object \n",
      "dtypes: float64(1), int64(2), object(6)\n",
      "memory usage: 1.1+ MB\n"
     ]
    }
   ],
   "source": [
    "df['street']=df['street_1']\n",
    "df.loc[df['street_1'].isna(),'street']=df['street_2']\n",
    "df.drop(['street_1', 'street_2'], axis=1, inplace=True)\n",
    "df.info()"
   ]
  },
  {
   "cell_type": "code",
   "execution_count": 31,
   "metadata": {},
   "outputs": [],
   "source": [
    "pivot_street=df.pivot_table(index='street', values='id', aggfunc='count').reset_index()\n",
    "pivot_street.columns=['street', 'count_obj']"
   ]
  },
  {
   "cell_type": "code",
   "execution_count": 32,
   "metadata": {},
   "outputs": [],
   "source": [
    "pivot_street=pivot_street.sort_values(by='count_obj', ascending=False)"
   ]
  },
  {
   "cell_type": "code",
   "execution_count": 33,
   "metadata": {},
   "outputs": [],
   "source": [
    "pivot_str_head=pivot_street.head(10)\n",
    "pivot_str_tail=pivot_street.tail(10)"
   ]
  },
  {
   "cell_type": "code",
   "execution_count": 34,
   "metadata": {},
   "outputs": [
    {
     "data": {
      "image/png": "[encoded data removed]",
      "text/plain": [
       "<Figure size 1152x216 with 2 Axes>"
      ]
     },
     "metadata": {
      "needs_background": "light"
     },
     "output_type": "display_data"
    }
   ],
   "source": [
    "fig=plt.figure(figsize=(16,3))\n",
    "\n",
    "ax_1=fig.add_subplot(1,2,1)\n",
    "ax_2=fig.add_subplot(1,2,2)\n",
    "\n",
    "pivot_str_tail.plot(x='street', y='count_obj', ax=ax_2, kind='bar', title='Число заведений на улице (ТОП-10 худших)', color='#FFF773', )\n",
    "pivot_str_head.plot(x='street', y='count_obj', ax=ax_1, kind='bar', title='Число заведений на улице (ТОП-10 лучших)')\n",
    "plt.show()"
   ]
  },
  {
   "cell_type": "markdown",
   "metadata": {},
   "source": [
    "***У ТОП-10 улиц по числу заведений - это число варьируется примерно от 100 до 200 заведений на одну улицу,*** однако, на первый взгляд видно, что это очень протяженные улицы, которые захватывают не один район города Москвы.\n",
    "\n",
    "***У ТОП-10 \"худших\" по числу заведений - это число равно 1,*** также стоит отметить, что в основном это переулки, проезды, бульвары или небольшие улицы. "
   ]
  },
  {
   "cell_type": "code",
   "execution_count": 35,
   "metadata": {},
   "outputs": [],
   "source": [
    "# загрузка внешней информации об улицах и районах Москвы\n",
    "\n",
    "data_area=pd.read_excel('area.xlsx')"
   ]
  },
  {
   "cell_type": "code",
   "execution_count": 36,
   "metadata": {},
   "outputs": [],
   "source": [
    "pivot_str_head_m=pivot_str_head.merge(data_area, how='left', left_on='street', right_on='street_all')\n",
    "pivot_str_tail_m=pivot_str_tail.merge(data_area, how='left', left_on='street', right_on='street_all')"
   ]
  },
  {
   "cell_type": "code",
   "execution_count": 37,
   "metadata": {},
   "outputs": [],
   "source": [
    "pivot_str_head_m=pivot_str_head_m.drop_duplicates().reset_index(drop\n",
    "= True)\n",
    "pivot_str_tail_m=pivot_str_tail_m.drop_duplicates().reset_index(drop\n",
    "= True)"
   ]
  },
  {
   "cell_type": "code",
   "execution_count": 38,
   "metadata": {},
   "outputs": [
    {
     "data": {
      "text/html": [
       "<div>\n",
       "<style scoped>\n",
       "    .dataframe tbody tr th:only-of-type {\n",
       "        vertical-align: middle;\n",
       "    }\n",
       "\n",
       "    .dataframe tbody tr th {\n",
       "        vertical-align: top;\n",
       "    }\n",
       "\n",
       "    .dataframe thead th {\n",
       "        text-align: right;\n",
       "    }\n",
       "</style>\n",
       "<table border=\"1\" class=\"dataframe\">\n",
       "  <thead>\n",
       "    <tr style=\"text-align: right;\">\n",
       "      <th></th>\n",
       "      <th>street</th>\n",
       "      <th>count_obj</th>\n",
       "      <th>street_all</th>\n",
       "      <th>area</th>\n",
       "    </tr>\n",
       "  </thead>\n",
       "  <tbody>\n",
       "    <tr>\n",
       "      <th>0</th>\n",
       "      <td>проспект Мира</td>\n",
       "      <td>204</td>\n",
       "      <td>проспект Мира</td>\n",
       "      <td>муниципальный округ Алексеевский</td>\n",
       "    </tr>\n",
       "    <tr>\n",
       "      <th>1</th>\n",
       "      <td>проспект Мира</td>\n",
       "      <td>204</td>\n",
       "      <td>проспект Мира</td>\n",
       "      <td>муниципальный округ Ростокино</td>\n",
       "    </tr>\n",
       "    <tr>\n",
       "      <th>2</th>\n",
       "      <td>проспект Мира</td>\n",
       "      <td>204</td>\n",
       "      <td>проспект Мира</td>\n",
       "      <td>муниципальный округ Мещанский</td>\n",
       "    </tr>\n",
       "    <tr>\n",
       "      <th>3</th>\n",
       "      <td>проспект Мира</td>\n",
       "      <td>204</td>\n",
       "      <td>проспект Мира</td>\n",
       "      <td>муниципальный округ Останкинский</td>\n",
       "    </tr>\n",
       "    <tr>\n",
       "      <th>4</th>\n",
       "      <td>проспект Мира</td>\n",
       "      <td>204</td>\n",
       "      <td>проспект Мира</td>\n",
       "      <td>муниципальный округ Ярославский</td>\n",
       "    </tr>\n",
       "    <tr>\n",
       "      <th>5</th>\n",
       "      <td>проспект Мира</td>\n",
       "      <td>204</td>\n",
       "      <td>проспект Мира</td>\n",
       "      <td>муниципальный округ Свиблово</td>\n",
       "    </tr>\n",
       "    <tr>\n",
       "      <th>6</th>\n",
       "      <td>проспект Мира</td>\n",
       "      <td>204</td>\n",
       "      <td>проспект Мира</td>\n",
       "      <td>муниципальный округ Гагаринский</td>\n",
       "    </tr>\n",
       "    <tr>\n",
       "      <th>7</th>\n",
       "      <td>проспект Мира</td>\n",
       "      <td>204</td>\n",
       "      <td>проспект Мира</td>\n",
       "      <td>муниципальный округ Тверской</td>\n",
       "    </tr>\n",
       "    <tr>\n",
       "      <th>8</th>\n",
       "      <td>Профсоюзная улица</td>\n",
       "      <td>183</td>\n",
       "      <td>Профсоюзная улица</td>\n",
       "      <td>муниципальный округ Ясенево</td>\n",
       "    </tr>\n",
       "    <tr>\n",
       "      <th>9</th>\n",
       "      <td>Профсоюзная улица</td>\n",
       "      <td>183</td>\n",
       "      <td>Профсоюзная улица</td>\n",
       "      <td>муниципальный округ Коньково</td>\n",
       "    </tr>\n",
       "    <tr>\n",
       "      <th>10</th>\n",
       "      <td>Профсоюзная улица</td>\n",
       "      <td>183</td>\n",
       "      <td>Профсоюзная улица</td>\n",
       "      <td>муниципальный округ Теплый Стан</td>\n",
       "    </tr>\n",
       "    <tr>\n",
       "      <th>11</th>\n",
       "      <td>Профсоюзная улица</td>\n",
       "      <td>183</td>\n",
       "      <td>Профсоюзная улица</td>\n",
       "      <td>муниципальный округ Академический</td>\n",
       "    </tr>\n",
       "    <tr>\n",
       "      <th>12</th>\n",
       "      <td>Профсоюзная улица</td>\n",
       "      <td>183</td>\n",
       "      <td>Профсоюзная улица</td>\n",
       "      <td>муниципальный округ Черемушки</td>\n",
       "    </tr>\n",
       "    <tr>\n",
       "      <th>13</th>\n",
       "      <td>Профсоюзная улица</td>\n",
       "      <td>183</td>\n",
       "      <td>Профсоюзная улица</td>\n",
       "      <td>муниципальный округ Обручевский</td>\n",
       "    </tr>\n",
       "    <tr>\n",
       "      <th>14</th>\n",
       "      <td>Ленинградский проспект</td>\n",
       "      <td>173</td>\n",
       "      <td>Ленинградский проспект</td>\n",
       "      <td>муниципальный округ Сокол</td>\n",
       "    </tr>\n",
       "    <tr>\n",
       "      <th>15</th>\n",
       "      <td>Ленинградский проспект</td>\n",
       "      <td>173</td>\n",
       "      <td>Ленинградский проспект</td>\n",
       "      <td>муниципальный округ Хорошевский</td>\n",
       "    </tr>\n",
       "    <tr>\n",
       "      <th>16</th>\n",
       "      <td>Ленинградский проспект</td>\n",
       "      <td>173</td>\n",
       "      <td>Ленинградский проспект</td>\n",
       "      <td>муниципальный округ Аэропорт</td>\n",
       "    </tr>\n",
       "    <tr>\n",
       "      <th>17</th>\n",
       "      <td>Ленинградский проспект</td>\n",
       "      <td>173</td>\n",
       "      <td>Ленинградский проспект</td>\n",
       "      <td>муниципальный округ Беговой</td>\n",
       "    </tr>\n",
       "    <tr>\n",
       "      <th>18</th>\n",
       "      <td>Пресненская набережная</td>\n",
       "      <td>167</td>\n",
       "      <td>Пресненская набережная</td>\n",
       "      <td>муниципальный округ Пресненский</td>\n",
       "    </tr>\n",
       "    <tr>\n",
       "      <th>19</th>\n",
       "      <td>Варшавское шоссе</td>\n",
       "      <td>162</td>\n",
       "      <td>Варшавское шоссе</td>\n",
       "      <td>муниципальный округ Чертаново Южное</td>\n",
       "    </tr>\n",
       "    <tr>\n",
       "      <th>20</th>\n",
       "      <td>Варшавское шоссе</td>\n",
       "      <td>162</td>\n",
       "      <td>Варшавское шоссе</td>\n",
       "      <td>муниципальный округ Донской</td>\n",
       "    </tr>\n",
       "    <tr>\n",
       "      <th>21</th>\n",
       "      <td>Варшавское шоссе</td>\n",
       "      <td>162</td>\n",
       "      <td>Варшавское шоссе</td>\n",
       "      <td>муниципальный округ Нагатино-Садовники</td>\n",
       "    </tr>\n",
       "    <tr>\n",
       "      <th>22</th>\n",
       "      <td>Варшавское шоссе</td>\n",
       "      <td>162</td>\n",
       "      <td>Варшавское шоссе</td>\n",
       "      <td>муниципальный округ Нагорный</td>\n",
       "    </tr>\n",
       "    <tr>\n",
       "      <th>23</th>\n",
       "      <td>Варшавское шоссе</td>\n",
       "      <td>162</td>\n",
       "      <td>Варшавское шоссе</td>\n",
       "      <td>муниципальный округ Чертаново Северное</td>\n",
       "    </tr>\n",
       "    <tr>\n",
       "      <th>24</th>\n",
       "      <td>Варшавское шоссе</td>\n",
       "      <td>162</td>\n",
       "      <td>Варшавское шоссе</td>\n",
       "      <td>муниципальный округ Северное Бутово</td>\n",
       "    </tr>\n",
       "    <tr>\n",
       "      <th>25</th>\n",
       "      <td>Варшавское шоссе</td>\n",
       "      <td>162</td>\n",
       "      <td>Варшавское шоссе</td>\n",
       "      <td>муниципальный округ Чертаново Центральное</td>\n",
       "    </tr>\n",
       "    <tr>\n",
       "      <th>26</th>\n",
       "      <td>Варшавское шоссе</td>\n",
       "      <td>162</td>\n",
       "      <td>Варшавское шоссе</td>\n",
       "      <td>муниципальный округ Южное Бутово</td>\n",
       "    </tr>\n",
       "    <tr>\n",
       "      <th>27</th>\n",
       "      <td>Ленинский проспект</td>\n",
       "      <td>148</td>\n",
       "      <td>Ленинский проспект</td>\n",
       "      <td>муниципальный округ Гагаринский</td>\n",
       "    </tr>\n",
       "    <tr>\n",
       "      <th>28</th>\n",
       "      <td>Ленинский проспект</td>\n",
       "      <td>148</td>\n",
       "      <td>Ленинский проспект</td>\n",
       "      <td>муниципальный округ Ломоносовский</td>\n",
       "    </tr>\n",
       "    <tr>\n",
       "      <th>29</th>\n",
       "      <td>Ленинский проспект</td>\n",
       "      <td>148</td>\n",
       "      <td>Ленинский проспект</td>\n",
       "      <td>муниципальный округ Якиманка</td>\n",
       "    </tr>\n",
       "    <tr>\n",
       "      <th>30</th>\n",
       "      <td>Ленинский проспект</td>\n",
       "      <td>148</td>\n",
       "      <td>Ленинский проспект</td>\n",
       "      <td>муниципальный округ Проспект Вернадского</td>\n",
       "    </tr>\n",
       "    <tr>\n",
       "      <th>31</th>\n",
       "      <td>Ленинский проспект</td>\n",
       "      <td>148</td>\n",
       "      <td>Ленинский проспект</td>\n",
       "      <td>муниципальный округ Тропарево-Никулино</td>\n",
       "    </tr>\n",
       "    <tr>\n",
       "      <th>32</th>\n",
       "      <td>Ленинский проспект</td>\n",
       "      <td>148</td>\n",
       "      <td>Ленинский проспект</td>\n",
       "      <td>муниципальный округ Обручевский</td>\n",
       "    </tr>\n",
       "    <tr>\n",
       "      <th>33</th>\n",
       "      <td>Ленинский проспект</td>\n",
       "      <td>148</td>\n",
       "      <td>Ленинский проспект</td>\n",
       "      <td>муниципальный округ Донской</td>\n",
       "    </tr>\n",
       "    <tr>\n",
       "      <th>34</th>\n",
       "      <td>Ленинский проспект</td>\n",
       "      <td>148</td>\n",
       "      <td>Ленинский проспект</td>\n",
       "      <td>муниципальный округ Теплый Стан</td>\n",
       "    </tr>\n",
       "    <tr>\n",
       "      <th>35</th>\n",
       "      <td>проспект Вернадского</td>\n",
       "      <td>132</td>\n",
       "      <td>проспект Вернадского</td>\n",
       "      <td>муниципальный округ Проспект Вернадского</td>\n",
       "    </tr>\n",
       "    <tr>\n",
       "      <th>36</th>\n",
       "      <td>проспект Вернадского</td>\n",
       "      <td>132</td>\n",
       "      <td>проспект Вернадского</td>\n",
       "      <td>муниципальный округ Тропарево-Никулино</td>\n",
       "    </tr>\n",
       "    <tr>\n",
       "      <th>37</th>\n",
       "      <td>проспект Вернадского</td>\n",
       "      <td>132</td>\n",
       "      <td>проспект Вернадского</td>\n",
       "      <td>муниципальный округ Ломоносовский</td>\n",
       "    </tr>\n",
       "    <tr>\n",
       "      <th>38</th>\n",
       "      <td>проспект Вернадского</td>\n",
       "      <td>132</td>\n",
       "      <td>проспект Вернадского</td>\n",
       "      <td>муниципальный округ Раменки</td>\n",
       "    </tr>\n",
       "    <tr>\n",
       "      <th>39</th>\n",
       "      <td>проспект Вернадского</td>\n",
       "      <td>132</td>\n",
       "      <td>проспект Вернадского</td>\n",
       "      <td>муниципальный округ Гагаринский</td>\n",
       "    </tr>\n",
       "    <tr>\n",
       "      <th>40</th>\n",
       "      <td>город Зеленоград</td>\n",
       "      <td>129</td>\n",
       "      <td>NaN</td>\n",
       "      <td>NaN</td>\n",
       "    </tr>\n",
       "    <tr>\n",
       "      <th>41</th>\n",
       "      <td>Кутузовский проспект</td>\n",
       "      <td>114</td>\n",
       "      <td>Кутузовский проспект</td>\n",
       "      <td>муниципальный округ Дорогомилово</td>\n",
       "    </tr>\n",
       "    <tr>\n",
       "      <th>42</th>\n",
       "      <td>Кутузовский проспект</td>\n",
       "      <td>114</td>\n",
       "      <td>Кутузовский проспект</td>\n",
       "      <td>муниципальный округ Фили-Давыдково</td>\n",
       "    </tr>\n",
       "    <tr>\n",
       "      <th>43</th>\n",
       "      <td>Каширское шоссе</td>\n",
       "      <td>112</td>\n",
       "      <td>Каширское шоссе</td>\n",
       "      <td>муниципальный округ Нагатино-Садовники</td>\n",
       "    </tr>\n",
       "    <tr>\n",
       "      <th>44</th>\n",
       "      <td>Каширское шоссе</td>\n",
       "      <td>112</td>\n",
       "      <td>Каширское шоссе</td>\n",
       "      <td>муниципальный округ Москворечье-Сабурово</td>\n",
       "    </tr>\n",
       "    <tr>\n",
       "      <th>45</th>\n",
       "      <td>Каширское шоссе</td>\n",
       "      <td>112</td>\n",
       "      <td>Каширское шоссе</td>\n",
       "      <td>муниципальный округ Орехово-Борисово Южное</td>\n",
       "    </tr>\n",
       "    <tr>\n",
       "      <th>46</th>\n",
       "      <td>Каширское шоссе</td>\n",
       "      <td>112</td>\n",
       "      <td>Каширское шоссе</td>\n",
       "      <td>муниципальный округ Орехово-Борисово Северное</td>\n",
       "    </tr>\n",
       "    <tr>\n",
       "      <th>47</th>\n",
       "      <td>Каширское шоссе</td>\n",
       "      <td>112</td>\n",
       "      <td>Каширское шоссе</td>\n",
       "      <td>муниципальный округ Нагатинский Затон</td>\n",
       "    </tr>\n",
       "  </tbody>\n",
       "</table>\n",
       "</div>"
      ],
      "text/plain": [
       "                    street  count_obj              street_all  \\\n",
       "0            проспект Мира        204           проспект Мира   \n",
       "1            проспект Мира        204           проспект Мира   \n",
       "2            проспект Мира        204           проспект Мира   \n",
       "3            проспект Мира        204           проспект Мира   \n",
       "4            проспект Мира        204           проспект Мира   \n",
       "5            проспект Мира        204           проспект Мира   \n",
       "6            проспект Мира        204           проспект Мира   \n",
       "7            проспект Мира        204           проспект Мира   \n",
       "8        Профсоюзная улица        183       Профсоюзная улица   \n",
       "9        Профсоюзная улица        183       Профсоюзная улица   \n",
       "10       Профсоюзная улица        183       Профсоюзная улица   \n",
       "11       Профсоюзная улица        183       Профсоюзная улица   \n",
       "12       Профсоюзная улица        183       Профсоюзная улица   \n",
       "13       Профсоюзная улица        183       Профсоюзная улица   \n",
       "14  Ленинградский проспект        173  Ленинградский проспект   \n",
       "15  Ленинградский проспект        173  Ленинградский проспект   \n",
       "16  Ленинградский проспект        173  Ленинградский проспект   \n",
       "17  Ленинградский проспект        173  Ленинградский проспект   \n",
       "18  Пресненская набережная        167  Пресненская набережная   \n",
       "19        Варшавское шоссе        162        Варшавское шоссе   \n",
       "20        Варшавское шоссе        162        Варшавское шоссе   \n",
       "21        Варшавское шоссе        162        Варшавское шоссе   \n",
       "22        Варшавское шоссе        162        Варшавское шоссе   \n",
       "23        Варшавское шоссе        162        Варшавское шоссе   \n",
       "24        Варшавское шоссе        162        Варшавское шоссе   \n",
       "25        Варшавское шоссе        162        Варшавское шоссе   \n",
       "26        Варшавское шоссе        162        Варшавское шоссе   \n",
       "27      Ленинский проспект        148      Ленинский проспект   \n",
       "28      Ленинский проспект        148      Ленинский проспект   \n",
       "29      Ленинский проспект        148      Ленинский проспект   \n",
       "30      Ленинский проспект        148      Ленинский проспект   \n",
       "31      Ленинский проспект        148      Ленинский проспект   \n",
       "32      Ленинский проспект        148      Ленинский проспект   \n",
       "33      Ленинский проспект        148      Ленинский проспект   \n",
       "34      Ленинский проспект        148      Ленинский проспект   \n",
       "35    проспект Вернадского        132    проспект Вернадского   \n",
       "36    проспект Вернадского        132    проспект Вернадского   \n",
       "37    проспект Вернадского        132    проспект Вернадского   \n",
       "38    проспект Вернадского        132    проспект Вернадского   \n",
       "39    проспект Вернадского        132    проспект Вернадского   \n",
       "40        город Зеленоград        129                     NaN   \n",
       "41    Кутузовский проспект        114    Кутузовский проспект   \n",
       "42    Кутузовский проспект        114    Кутузовский проспект   \n",
       "43         Каширское шоссе        112         Каширское шоссе   \n",
       "44         Каширское шоссе        112         Каширское шоссе   \n",
       "45         Каширское шоссе        112         Каширское шоссе   \n",
       "46         Каширское шоссе        112         Каширское шоссе   \n",
       "47         Каширское шоссе        112         Каширское шоссе   \n",
       "\n",
       "                                             area  \n",
       "0                муниципальный округ Алексеевский  \n",
       "1                   муниципальный округ Ростокино  \n",
       "2                   муниципальный округ Мещанский  \n",
       "3                муниципальный округ Останкинский  \n",
       "4                 муниципальный округ Ярославский  \n",
       "5                    муниципальный округ Свиблово  \n",
       "6                 муниципальный округ Гагаринский  \n",
       "7                    муниципальный округ Тверской  \n",
       "8                     муниципальный округ Ясенево  \n",
       "9                    муниципальный округ Коньково  \n",
       "10                муниципальный округ Теплый Стан  \n",
       "11              муниципальный округ Академический  \n",
       "12                  муниципальный округ Черемушки  \n",
       "13                муниципальный округ Обручевский  \n",
       "14                      муниципальный округ Сокол  \n",
       "15                муниципальный округ Хорошевский  \n",
       "16                   муниципальный округ Аэропорт  \n",
       "17                    муниципальный округ Беговой  \n",
       "18                муниципальный округ Пресненский  \n",
       "19            муниципальный округ Чертаново Южное  \n",
       "20                    муниципальный округ Донской  \n",
       "21         муниципальный округ Нагатино-Садовники  \n",
       "22                   муниципальный округ Нагорный  \n",
       "23         муниципальный округ Чертаново Северное  \n",
       "24            муниципальный округ Северное Бутово  \n",
       "25      муниципальный округ Чертаново Центральное  \n",
       "26               муниципальный округ Южное Бутово  \n",
       "27                муниципальный округ Гагаринский  \n",
       "28              муниципальный округ Ломоносовский  \n",
       "29                   муниципальный округ Якиманка  \n",
       "30       муниципальный округ Проспект Вернадского  \n",
       "31         муниципальный округ Тропарево-Никулино  \n",
       "32                муниципальный округ Обручевский  \n",
       "33                    муниципальный округ Донской  \n",
       "34                муниципальный округ Теплый Стан  \n",
       "35       муниципальный округ Проспект Вернадского  \n",
       "36         муниципальный округ Тропарево-Никулино  \n",
       "37              муниципальный округ Ломоносовский  \n",
       "38                    муниципальный округ Раменки  \n",
       "39                муниципальный округ Гагаринский  \n",
       "40                                            NaN  \n",
       "41               муниципальный округ Дорогомилово  \n",
       "42             муниципальный округ Фили-Давыдково  \n",
       "43         муниципальный округ Нагатино-Садовники  \n",
       "44       муниципальный округ Москворечье-Сабурово  \n",
       "45     муниципальный округ Орехово-Борисово Южное  \n",
       "46  муниципальный округ Орехово-Борисово Северное  \n",
       "47          муниципальный округ Нагатинский Затон  "
      ]
     },
     "metadata": {},
     "output_type": "display_data"
    },
    {
     "data": {
      "text/html": [
       "<div>\n",
       "<style scoped>\n",
       "    .dataframe tbody tr th:only-of-type {\n",
       "        vertical-align: middle;\n",
       "    }\n",
       "\n",
       "    .dataframe tbody tr th {\n",
       "        vertical-align: top;\n",
       "    }\n",
       "\n",
       "    .dataframe thead th {\n",
       "        text-align: right;\n",
       "    }\n",
       "</style>\n",
       "<table border=\"1\" class=\"dataframe\">\n",
       "  <thead>\n",
       "    <tr style=\"text-align: right;\">\n",
       "      <th></th>\n",
       "      <th>street</th>\n",
       "      <th>count_obj</th>\n",
       "      <th>street_all</th>\n",
       "      <th>area</th>\n",
       "    </tr>\n",
       "  </thead>\n",
       "  <tbody>\n",
       "    <tr>\n",
       "      <th>0</th>\n",
       "      <td>2-й Полевой переулок</td>\n",
       "      <td>1</td>\n",
       "      <td>2-й Полевой переулок</td>\n",
       "      <td>муниципальный округ Сокольники</td>\n",
       "    </tr>\n",
       "    <tr>\n",
       "      <th>1</th>\n",
       "      <td>Центральный проспект</td>\n",
       "      <td>1</td>\n",
       "      <td>Центральный проспект</td>\n",
       "      <td>муниципальный округ Матушкино</td>\n",
       "    </tr>\n",
       "    <tr>\n",
       "      <th>2</th>\n",
       "      <td>Карельский бульвар</td>\n",
       "      <td>1</td>\n",
       "      <td>Карельский бульвар</td>\n",
       "      <td>муниципальный округ Дмитровский</td>\n",
       "    </tr>\n",
       "    <tr>\n",
       "      <th>3</th>\n",
       "      <td>Челюскинская улица</td>\n",
       "      <td>1</td>\n",
       "      <td>Челюскинская улица</td>\n",
       "      <td>муниципальный округ Лосиноостровский</td>\n",
       "    </tr>\n",
       "    <tr>\n",
       "      <th>4</th>\n",
       "      <td>7-я улица Лазенки</td>\n",
       "      <td>1</td>\n",
       "      <td>7-я улица Лазенки</td>\n",
       "      <td>муниципальный округ Ново-Переделкино</td>\n",
       "    </tr>\n",
       "    <tr>\n",
       "      <th>5</th>\n",
       "      <td>Чермянская улица</td>\n",
       "      <td>1</td>\n",
       "      <td>Чермянская улица</td>\n",
       "      <td>муниципальный округ Южное Медведково</td>\n",
       "    </tr>\n",
       "    <tr>\n",
       "      <th>6</th>\n",
       "      <td>Чермянская улица</td>\n",
       "      <td>1</td>\n",
       "      <td>Чермянская улица</td>\n",
       "      <td>муниципальный округ Северное Медведково</td>\n",
       "    </tr>\n",
       "    <tr>\n",
       "      <th>7</th>\n",
       "      <td>Чермянский проезд</td>\n",
       "      <td>1</td>\n",
       "      <td>Чермянский проезд</td>\n",
       "      <td>муниципальный округ Северное Медведково</td>\n",
       "    </tr>\n",
       "    <tr>\n",
       "      <th>8</th>\n",
       "      <td>Черниговский переулок</td>\n",
       "      <td>1</td>\n",
       "      <td>Черниговский переулок</td>\n",
       "      <td>муниципальный округ Замоскворечье</td>\n",
       "    </tr>\n",
       "    <tr>\n",
       "      <th>9</th>\n",
       "      <td>Черницынский проезд</td>\n",
       "      <td>1</td>\n",
       "      <td>Черницынский проезд</td>\n",
       "      <td>муниципальный округ Гольяново</td>\n",
       "    </tr>\n",
       "    <tr>\n",
       "      <th>10</th>\n",
       "      <td>деревня Ликова</td>\n",
       "      <td>1</td>\n",
       "      <td>NaN</td>\n",
       "      <td>NaN</td>\n",
       "    </tr>\n",
       "  </tbody>\n",
       "</table>\n",
       "</div>"
      ],
      "text/plain": [
       "                   street  count_obj             street_all  \\\n",
       "0    2-й Полевой переулок          1   2-й Полевой переулок   \n",
       "1    Центральный проспект          1   Центральный проспект   \n",
       "2      Карельский бульвар          1     Карельский бульвар   \n",
       "3      Челюскинская улица          1     Челюскинская улица   \n",
       "4       7-я улица Лазенки          1      7-я улица Лазенки   \n",
       "5        Чермянская улица          1       Чермянская улица   \n",
       "6        Чермянская улица          1       Чермянская улица   \n",
       "7       Чермянский проезд          1      Чермянский проезд   \n",
       "8   Черниговский переулок          1  Черниговский переулок   \n",
       "9     Черницынский проезд          1    Черницынский проезд   \n",
       "10         деревня Ликова          1                    NaN   \n",
       "\n",
       "                                       area  \n",
       "0            муниципальный округ Сокольники  \n",
       "1             муниципальный округ Матушкино  \n",
       "2           муниципальный округ Дмитровский  \n",
       "3      муниципальный округ Лосиноостровский  \n",
       "4      муниципальный округ Ново-Переделкино  \n",
       "5      муниципальный округ Южное Медведково  \n",
       "6   муниципальный округ Северное Медведково  \n",
       "7   муниципальный округ Северное Медведково  \n",
       "8         муниципальный округ Замоскворечье  \n",
       "9             муниципальный округ Гольяново  \n",
       "10                                      NaN  "
      ]
     },
     "metadata": {},
     "output_type": "display_data"
    }
   ],
   "source": [
    "display(pivot_str_head_m)\n",
    "display(pivot_str_tail_m)"
   ]
  },
  {
   "cell_type": "code",
   "execution_count": 39,
   "metadata": {},
   "outputs": [
    {
     "name": "stdout",
     "output_type": "stream",
     "text": [
      "---Районы которые захватывают более одной из ТОП-10 улиц---\n",
      "\n"
     ]
    },
    {
     "data": {
      "text/plain": [
       "муниципальный округ Гагаринский             3\n",
       "муниципальный округ Нагатино-Садовники      2\n",
       "муниципальный округ Обручевский             2\n",
       "муниципальный округ Ломоносовский           2\n",
       "муниципальный округ Тропарево-Никулино      2\n",
       "муниципальный округ Проспект Вернадского    2\n",
       "муниципальный округ Донской                 2\n",
       "муниципальный округ Теплый Стан             2\n",
       "Name: area, dtype: int64"
      ]
     },
     "metadata": {},
     "output_type": "display_data"
    }
   ],
   "source": [
    "print('---Районы которые захватывают более одной из ТОП-10 улиц---')\n",
    "print()\n",
    "display(pivot_str_head_m['area'].value_counts().head(8))"
   ]
  },
  {
   "cell_type": "markdown",
   "metadata": {},
   "source": [
    "***Если рассматривать число заведений на улице или районе как показатель успеха, тогда улицы с большим числом заведений и районы содержащие больше таких улиц считаются наиболее успешными.*** "
   ]
  },
  {
   "cell_type": "code",
   "execution_count": 40,
   "metadata": {},
   "outputs": [
    {
     "data": {
      "text/html": [
       "<div>\n",
       "<style scoped>\n",
       "    .dataframe tbody tr th:only-of-type {\n",
       "        vertical-align: middle;\n",
       "    }\n",
       "\n",
       "    .dataframe tbody tr th {\n",
       "        vertical-align: top;\n",
       "    }\n",
       "\n",
       "    .dataframe thead th {\n",
       "        text-align: right;\n",
       "    }\n",
       "</style>\n",
       "<table border=\"1\" class=\"dataframe\">\n",
       "  <thead>\n",
       "    <tr style=\"text-align: right;\">\n",
       "      <th></th>\n",
       "      <th>street</th>\n",
       "      <th>count_area</th>\n",
       "    </tr>\n",
       "  </thead>\n",
       "  <tbody>\n",
       "    <tr>\n",
       "      <th>0</th>\n",
       "      <td>Варшавское шоссе</td>\n",
       "      <td>8</td>\n",
       "    </tr>\n",
       "    <tr>\n",
       "      <th>4</th>\n",
       "      <td>Ленинский проспект</td>\n",
       "      <td>8</td>\n",
       "    </tr>\n",
       "    <tr>\n",
       "      <th>9</th>\n",
       "      <td>проспект Мира</td>\n",
       "      <td>8</td>\n",
       "    </tr>\n",
       "    <tr>\n",
       "      <th>6</th>\n",
       "      <td>Профсоюзная улица</td>\n",
       "      <td>6</td>\n",
       "    </tr>\n",
       "    <tr>\n",
       "      <th>1</th>\n",
       "      <td>Каширское шоссе</td>\n",
       "      <td>5</td>\n",
       "    </tr>\n",
       "    <tr>\n",
       "      <th>8</th>\n",
       "      <td>проспект Вернадского</td>\n",
       "      <td>5</td>\n",
       "    </tr>\n",
       "    <tr>\n",
       "      <th>3</th>\n",
       "      <td>Ленинградский проспект</td>\n",
       "      <td>4</td>\n",
       "    </tr>\n",
       "    <tr>\n",
       "      <th>2</th>\n",
       "      <td>Кутузовский проспект</td>\n",
       "      <td>2</td>\n",
       "    </tr>\n",
       "    <tr>\n",
       "      <th>5</th>\n",
       "      <td>Пресненская набережная</td>\n",
       "      <td>1</td>\n",
       "    </tr>\n",
       "    <tr>\n",
       "      <th>7</th>\n",
       "      <td>город Зеленоград</td>\n",
       "      <td>0</td>\n",
       "    </tr>\n",
       "  </tbody>\n",
       "</table>\n",
       "</div>"
      ],
      "text/plain": [
       "                   street  count_area\n",
       "0        Варшавское шоссе           8\n",
       "4      Ленинский проспект           8\n",
       "9           проспект Мира           8\n",
       "6       Профсоюзная улица           6\n",
       "1         Каширское шоссе           5\n",
       "8    проспект Вернадского           5\n",
       "3  Ленинградский проспект           4\n",
       "2    Кутузовский проспект           2\n",
       "5  Пресненская набережная           1\n",
       "7        город Зеленоград           0"
      ]
     },
     "metadata": {},
     "output_type": "display_data"
    },
    {
     "data": {
      "text/html": [
       "<div>\n",
       "<style scoped>\n",
       "    .dataframe tbody tr th:only-of-type {\n",
       "        vertical-align: middle;\n",
       "    }\n",
       "\n",
       "    .dataframe tbody tr th {\n",
       "        vertical-align: top;\n",
       "    }\n",
       "\n",
       "    .dataframe thead th {\n",
       "        text-align: right;\n",
       "    }\n",
       "</style>\n",
       "<table border=\"1\" class=\"dataframe\">\n",
       "  <thead>\n",
       "    <tr style=\"text-align: right;\">\n",
       "      <th></th>\n",
       "      <th>street</th>\n",
       "      <th>count_area</th>\n",
       "    </tr>\n",
       "  </thead>\n",
       "  <tbody>\n",
       "    <tr>\n",
       "      <th>5</th>\n",
       "      <td>Чермянская улица</td>\n",
       "      <td>2</td>\n",
       "    </tr>\n",
       "    <tr>\n",
       "      <th>0</th>\n",
       "      <td>2-й Полевой переулок</td>\n",
       "      <td>1</td>\n",
       "    </tr>\n",
       "    <tr>\n",
       "      <th>1</th>\n",
       "      <td>7-я улица Лазенки</td>\n",
       "      <td>1</td>\n",
       "    </tr>\n",
       "    <tr>\n",
       "      <th>2</th>\n",
       "      <td>Карельский бульвар</td>\n",
       "      <td>1</td>\n",
       "    </tr>\n",
       "    <tr>\n",
       "      <th>3</th>\n",
       "      <td>Центральный проспект</td>\n",
       "      <td>1</td>\n",
       "    </tr>\n",
       "    <tr>\n",
       "      <th>4</th>\n",
       "      <td>Челюскинская улица</td>\n",
       "      <td>1</td>\n",
       "    </tr>\n",
       "    <tr>\n",
       "      <th>6</th>\n",
       "      <td>Чермянский проезд</td>\n",
       "      <td>1</td>\n",
       "    </tr>\n",
       "    <tr>\n",
       "      <th>7</th>\n",
       "      <td>Черниговский переулок</td>\n",
       "      <td>1</td>\n",
       "    </tr>\n",
       "    <tr>\n",
       "      <th>8</th>\n",
       "      <td>Черницынский проезд</td>\n",
       "      <td>1</td>\n",
       "    </tr>\n",
       "    <tr>\n",
       "      <th>9</th>\n",
       "      <td>деревня Ликова</td>\n",
       "      <td>0</td>\n",
       "    </tr>\n",
       "  </tbody>\n",
       "</table>\n",
       "</div>"
      ],
      "text/plain": [
       "                  street  count_area\n",
       "5       Чермянская улица           2\n",
       "0   2-й Полевой переулок           1\n",
       "1      7-я улица Лазенки           1\n",
       "2     Карельский бульвар           1\n",
       "3   Центральный проспект           1\n",
       "4     Челюскинская улица           1\n",
       "6      Чермянский проезд           1\n",
       "7  Черниговский переулок           1\n",
       "8    Черницынский проезд           1\n",
       "9         деревня Ликова           0"
      ]
     },
     "metadata": {},
     "output_type": "display_data"
    }
   ],
   "source": [
    "area_pivot_head=pivot_str_head_m.pivot_table(index='street', values='area', aggfunc='count').reset_index()\n",
    "area_pivot_head.columns=['street','count_area']\n",
    "area_pivot_tail=pivot_str_tail_m.pivot_table(index='street', values='area', aggfunc='count').reset_index()\n",
    "area_pivot_tail.columns=['street','count_area']\n",
    "display(area_pivot_head.sort_values(by='count_area', ascending=False))\n",
    "display(area_pivot_tail.sort_values(by='count_area', ascending=False))"
   ]
  },
  {
   "cell_type": "markdown",
   "metadata": {},
   "source": [
    "***Первое впечатление оправдалось, действительно, ТОП-10 улиц по числу заведений очень протяженные и захватывают несколько районов Москвы,*** например: проспект Мира - 8 районов, Ленинский проспект - 8 районов, Варшавское шоссе - 8 районов.  \n",
    "\n",
    "***А ТОП-10 \"худших\" улиц по числу заведений, наоборот, занимают в основном 1 район.***  \n",
    "\n",
    "***Таким образом, можно сделать вывод - определить привлекательную улицу по числу заведений сложно, необходима более подробная информация,*** например: протяженность улицы, численность населения районов, близость расположения метро. И скорее всего, так как в Москве есть очень протяженные улицы, стоит искать привлекательное расположение будущего заведения не по улицам, а по районам. "
   ]
  },
  {
   "cell_type": "code",
   "execution_count": 41,
   "metadata": {},
   "outputs": [],
   "source": [
    "pdToList = list(pivot_str_head['street'])\n",
    "df_top10=df[df['street'].isin(pdToList)]"
   ]
  },
  {
   "cell_type": "code",
   "execution_count": 42,
   "metadata": {},
   "outputs": [
    {
     "data": {
      "text/plain": [
       "count    1524.000000\n",
       "mean       60.015092\n",
       "std        89.242396\n",
       "min         0.000000\n",
       "25%        15.000000\n",
       "50%        40.000000\n",
       "75%        80.000000\n",
       "max      1700.000000\n",
       "Name: number, dtype: float64"
      ]
     },
     "metadata": {},
     "output_type": "display_data"
    },
    {
     "data": {
      "image/png": "[encoded data removed]",
      "text/plain": [
       "<Figure size 1152x360 with 2 Axes>"
      ]
     },
     "metadata": {
      "needs_background": "light"
     },
     "output_type": "display_data"
    },
    {
     "data": {
      "image/png": "[encoded data removed]",
      "text/plain": [
       "<Figure size 432x288 with 1 Axes>"
      ]
     },
     "metadata": {
      "needs_background": "light"
     },
     "output_type": "display_data"
    }
   ],
   "source": [
    "display(df_top10['number'].describe())\n",
    "\n",
    "plt.figure(figsize=(16,5))\n",
    "\n",
    "#plt.figtext(0.5, -0.1, \"figtext\")\n",
    "#plt.suptitle(\"suptitle\")\n",
    "\n",
    "plt.subplot(121)\n",
    "plt.title('Распределение количества посадочных мест на ТОП 10 улицах')\n",
    "#plt.xlabel(\"xlabel\")\n",
    "#plt.ylabel(\"ylabel\")\n",
    "plt.hist(df_top10['number'],range=[0,400], bins=10)\n",
    "\n",
    "plt.subplot(122)\n",
    "plt.title('Диаграмма размаха количества посадочных мест на ТОП 10 улицах')\n",
    "#plt.xlabel(\"xlabel\")\n",
    "#plt.ylabel(\"ylabel\")\n",
    "plt.boxplot(df_top10['number'])#, showfliers=False)\n",
    "plt.show()\n",
    "\n",
    "plt.boxplot(df_top10['number'], showfliers=False)\n",
    "plt.title('Диаграмма размаха количества посадочных мест на ТОП 10 улицах')\n",
    "plt.show()\n"
   ]
  },
  {
   "cell_type": "markdown",
   "metadata": {},
   "source": [
    "- **Медиана** распределения числа посадочных мест по заведениям для ТОП-10 улиц - **40 мест.**\n",
    "- **Нормальные значения лежат в интервале от 0 до 175 мест** (все значения после 175 мест - выбросы).\n",
    "- **Основное число заведений в выборке с посадочными местами от 0 до 120 мест.**  \n",
    "- Распределение скошено вправо.  "
   ]
  },
  {
   "cell_type": "markdown",
   "metadata": {},
   "source": [
    "<h3>3. Выводы</h3>"
   ]
  },
  {
   "cell_type": "markdown",
   "metadata": {},
   "source": [
    "<h3>Анализ рынка заведений общественного питания Москвы.</h3>\n",
    "\n",
    "***- Доля рынка по типам заведений:***\n",
    "\n",
    "Явно выделяется четверка лидеров по количеству заведений в г. Москва: **кафе (40% от всех заведений), столовая (17% от всех заведений), ресторан (15%) и предприятие быстрого обслуживания (13%).** Аутсайдеры: буфет, кафетерий, закусочная и отдел кулинарии, каждый из этих видов занимает меньше 5% рынка.\n",
    "\n",
    "***- Доля сетевых заведений, анализ в разрезе типов заведений:***\n",
    "\n",
    "Сетевых заведений намного меньше, чем несетевых: **сетевые 19% рынка (или 2968 заведений), несетевые 81% рынка (или 12398 заведений).**\n",
    "\n",
    "Наиболее характерно сетевое распространение по доле сетевых заведений - **для предприятий быстрого питания (около 41% сетевых заведений) и отдела кулинарии (около 29% сетевых заведений).** Рестораны и кафе показывают приблизительно одинаковый результат: около 23% сетевых заведений. По количеству же сетевых заведений лидирует кафе, за счет лидерства по общему числу заведений.  \n",
    "\n",
    "Для сетевых заведений не наблюдается ярко выраженного характера по количеству посадочных мест: 858 сетевых заведений имеют меньше 20 мест, 1150 заведений от 20 до 60 мест и 960 заведений более 60 мест.Таким образом, можно отметить, что сетевые заведения практически в равной степени имеют как малое число мест, среднее так и большое.  \n",
    "\n",
    "***- Анализ числа посадочных мест в разрезе типов заведений:***\n",
    "\n",
    "**Явным лидером по числу посадочных мест являются столовые и рестораны, в среднем по медиане 103 и 80 посадочных мест** соответственно. Далее идут **бар, буфет и кафе** приблизительно с равными медианами числа посадочных мест - **35, 32 и 30 соответсвенно.** Значительные выбросы наблюдаются у ресторанов и кафе.  \n",
    "\n",
    "***- Анализ количества ресторанов в разрезе улиц:***\n",
    "\n",
    "**У ТОП-10 улиц по числу заведений - это число варьируется примерно от 100 до 200 заведений на одну улицу,** однако, стоит отметить, что это очень протяженные улицы, которые захватывают не один район города Москвы.\n",
    "\n",
    "**У ТОП-10 \"худших\" по числу заведений - это число равно 1,** также стоит отметить, что в основном это переулки, проезды, бульвары или небольшие улицы, которые в основном занимают только 1 район города. \n",
    "\n",
    "***- Рекомендаци для инвесторов:***\n",
    "\n",
    "- **Если цель открыть средний (по рынку) объект питания, тогда это должно быть либо кафе, либо заведение быстрого обслуживания, либо ресторан.** Впоследствии данные типы питания, согласно рынку (доля сетевых заведений по данным типам выше среднего), могут стать сетевыми.  Однако если учесть тот факт, что открывается небольшое заведение с официантами роботами, **тогда больше подходит тип - кафе, так как в среднем (по медиане) по рынку такие заведения содержат около 30 посадочных мест,** в то время как ресторан около 80 мест - это слишком много, а заведение быстрого обслуживания всего около 5 мест и они не требуют наличие официантов.  \n",
    "\n",
    "- **В среднем (по медиане) по рынку (для ТОП-10 улиц по числу заведений) одно заведение имеет 40 посадочных мест, что в целом подходит для рекомендованного типа заведения - кафе.**  \n",
    "\n",
    "- **Определить район для заведения по исходным данным сложно, так как при выборе района или улицы стоит полагаться не только на число заведений в этом месте на данный момент,** но и на многие другие факторы, например: протяженность и проходимость улицы, численность населения районов, близость расположения метро, бизнес центров и других инфраструктурных объектов, стоимость аренды в том или ином районе. Проанализируя эти и многие другие факторы, только тогда можно будет определить действительно привлекательный район (район в котором недостаточно, согласно рынку, заведений данного типа). **При использовании текущей информации можно лишь только заключить, что чем больше ресторанов на улице или районе - тем выгоднее и успешнее это место, тогда для открытия заведения можно выбрать лучшие из ТОП-10 улиц** - проспект Мира, Профсоюзная улица и Ленинградский проспект или **районы которые содержат более одной улицы из ТОП-10, а это районы:** Гагаринский (3 улицы из ТОП-10), Обручевский (2 улицы), Донской (2 улицы). "
   ]
  },
  {
   "cell_type": "markdown",
   "metadata": {},
   "source": [
    "**Презентация:** https://yadi.sk/i/2s-D_QmDJRPZZQ\n",
    "\n",
    "*ссылка на корневую папку - https://yadi.sk/d/aFe9Xa32bCen-Q* "
   ]
  }
 ],
 "metadata": {
  "kernelspec": {
   "display_name": "Python 3",
   "language": "python",
   "name": "python3"
  },
  "language_info": {
   "codemirror_mode": {
    "name": "ipython",
    "version": 3
   },
   "file_extension": ".py",
   "mimetype": "text/x-python",
   "name": "python",
   "nbconvert_exporter": "python",
   "pygments_lexer": "ipython3",
   "version": "3.7.6"
  }
 },
 "nbformat": 4,
 "nbformat_minor": 2
}
